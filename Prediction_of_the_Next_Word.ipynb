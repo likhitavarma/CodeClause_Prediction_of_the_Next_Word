{
  "nbformat": 4,
  "nbformat_minor": 0,
  "metadata": {
    "colab": {
      "provenance": []
    },
    "kernelspec": {
      "name": "python3",
      "display_name": "Python 3"
    },
    "language_info": {
      "name": "python"
    }
  },
  "cells": [
    {
      "cell_type": "code",
      "execution_count": 2,
      "metadata": {
        "colab": {
          "base_uri": "https://localhost:8080/"
        },
        "id": "ZmjquznzkuMA",
        "outputId": "029ddc66-98e6-4d08-9345-cdc14fa64432"
      },
      "outputs": [
        {
          "output_type": "stream",
          "name": "stdout",
          "text": [
            "('the', 'next', 'item')\n"
          ]
        },
        {
          "output_type": "stream",
          "name": "stderr",
          "text": [
            "[nltk_data] Downloading package punkt to /root/nltk_data...\n",
            "[nltk_data]   Package punkt is already up-to-date!\n"
          ]
        }
      ],
      "source": [
        "import nltk\n",
        "nltk.download('punkt')\n",
        "\n",
        "# Load the text data\n",
        "with open('text_data.txt') as f:\n",
        "    text = f.read()\n",
        "\n",
        "# Tokenize the text into words\n",
        "tokens = nltk.word_tokenize(text)\n",
        "\n",
        "# Create trigrams\n",
        "trigrams = list(nltk.trigrams(tokens))\n",
        "\n",
        "# Count the frequency of each trigram\n",
        "trigram_freq = nltk.FreqDist(trigrams)\n",
        "\n",
        "# Function to predict the next word\n",
        "def predict_next_word(word1, word2):\n",
        "    freq = trigram_freq[(word1, word2)]\n",
        "    trigrams_starting_with_word12 = [trigram for trigram in trigrams if trigram[0] == word1 and trigram[1] == word2]\n",
        "    trigrams_starting_with_word12_freq = nltk.FreqDist(trigrams_starting_with_word12)\n",
        "    return trigrams_starting_with_word12_freq.max()\n",
        "\n",
        "# Example usage\n",
        "word1 = 'the'\n",
        "word2 = 'next'\n",
        "next_word = predict_next_word(word1, word2)\n",
        "print(next_word)\n"
      ]
    }
  ]
}